{
 "cells": [
  {
   "cell_type": "markdown",
   "metadata": {},
   "source": [
    "# db 가져오기"
   ]
  },
  {
   "cell_type": "code",
   "execution_count": 23,
   "metadata": {},
   "outputs": [],
   "source": [
    "import requests\n",
    "from bs4 import BeautifulSoup\n",
    "import time\n",
    "from urllib.robotparser import RobotFileParser\n",
    "from requests.compat import urlparse, urljoin\n",
    "from requests.exceptions import HTTPError\n",
    "import re\n",
    "\n",
    "headers = {'user-agent':\"Mozilla/5.0 (Windows NT 10.0; Win64; x64) AppleWebKit/537.36 (KHTML, like Gecko) Chrome/83.0.4103.116 Safari/537.36\"}\n",
    "\n",
    "def canfetch(url, agent='*', path='/'):\n",
    "    robot = RobotFileParser(urljoin(url, '/robots.txt'))\n",
    "    robot.read()\n",
    "    return robot.can_fetch(agent, urlparse(url)[2])\n",
    "    \n",
    "def download(url, params={}, headers={}, method='GET', limit=3):\n",
    "    method = method.upper()\n",
    "    if canfetch(url) == False:\n",
    "        print('[Error] ' + url)\n",
    "    else: #bot 접근 못하게 막은데있어어 else뺌\n",
    "        try:\n",
    "            resp = requests.request(method, url,\n",
    "                   params=params if method=='GET' else {},\n",
    "                   data=params if method=='POST' else {},\n",
    "                   headers=headers)\n",
    "            resp.raise_for_status()\n",
    "        except HTTPError as e:\n",
    "            if limit > 0 and e.response.status_code >= 500: # 500 에러 재귀 ;너무많은 트래픽 안생기도록\n",
    "                print(limit)\n",
    "                time.sleep(300) # => random, 1초에 1번\n",
    "                resp = download(url, params, headers, method, limit-1)\n",
    "            else:\n",
    "                print('[{}] '.format(e.response.status_code) + url)\n",
    "                print(e.response.status_code)\n",
    "                print(e.response.reason)\n",
    "                print(e.response.headers)\n",
    "        return resp"
   ]
  },
  {
   "cell_type": "code",
   "execution_count": null,
   "metadata": {},
   "outputs": [],
   "source": [
    "startrow =1\n",
    "endrow = 1000\n",
    "api_key = '1cbfb2550a5a4dd8820f'\n",
    "url = 'http://openapi.foodsafetykorea.go.kr/api/' + api_key + '/I2790/json/' + str(startrow) + '/' + str(endrow)\n",
    "resp = download(url, headers = headers,method= 'GET')\n",
    "result = resp.json()\n",
    "total = int(result['I2790']['total_count'])\n",
    "de = total%1000\n",
    "\n",
    "import sqlite3\n",
    "con = sqlite3.connect('ex.db')\n",
    "cur = con.cursor()\n",
    "\n",
    "cur.executescript('''\n",
    "    DROP TABLE IF EXISTS factor;\n",
    "    CREATE TABLE factor(\n",
    "        NUM           INTEGER NOT NULL,\n",
    "        DESC_KOR      TEXT NOT NULL ,\n",
    "        FOOD_GROUP    TEXT ,\n",
    "        FOOD_CD      TEXT ,\n",
    "        NUTR_CONT1     FLOAT DEFAULT 0.0,\n",
    "        NUTR_CONT2     FLOAT DEFAULT 0.0,\n",
    "        NUTR_CONT3     FLOAT DEFAULT 0.0,\n",
    "        NUTR_CONT4   FLOAT DEFAULT 0.0,\n",
    "        NUTR_CONT5   FLOAT DEFAULT 0.0,\n",
    "        NUTR_CONT6   FLOAT DEFAULT 0.0,\n",
    "        NUTR_CONT7   FLOAT DEFAULT 0.0,\n",
    "        NUTR_CONT8   FLOAT DEFAULT 0.0,\n",
    "        NUTR_CONT9   FLOAT DEFAULT 0.0,\n",
    "        SERVING_SIZE   INTERGER ,\n",
    "        MAKER_NAME    TEXT ,\n",
    "        BGN_YEAR      TEXT ,\n",
    "        SAMPLING_MONTH_NAME     TEXT ,\n",
    "        SUB_REF_NAME      TEXT,\n",
    "        SAMPLING_REGION_NAME   TEXT ,\n",
    "        GROUP_NAME       TEXT ,\n",
    "        RESEARCH_YEAR INTERGER DEFAULT 0,\n",
    "        SAMPLING_REGION_CD  INTERGER DEFAULT 0,\n",
    "        SAMPLING_MONTH_CD  TEXT ,\n",
    "        ANIMAL_PLANT    TEXT \n",
    "    );\n",
    "''')"
   ]
  },
  {
   "cell_type": "code",
   "execution_count": null,
   "metadata": {},
   "outputs": [],
   "source": [
    "for _ in result['I2790']['row']:\n",
    "    cur.execute('''INSERT INTO factor(NUM,DESC_KOR ,\n",
    "        FOOD_GROUP ,FOOD_CD ,NUTR_CONT1 ,\n",
    "        NUTR_CONT2, NUTR_CONT3, NUTR_CONT4, NUTR_CONT5,\n",
    "        NUTR_CONT6, NUTR_CONT7,  NUTR_CONT8, NUTR_CONT9,\n",
    "        SERVING_SIZE  ,MAKER_NAME , BGN_YEAR, SAMPLING_MONTH_NAME  ,\n",
    "        SUB_REF_NAME, SAMPLING_REGION_NAME, GROUP_NAME  ,\n",
    "        RESEARCH_YEAR, SAMPLING_REGION_CD ,SAMPLING_MONTH_CD, ANIMAL_PLANT) \n",
    "        VALUES(?,?,?,?,?,?,?,?,?,?,?,?,?,?,?,?,?,?,?,?,?,?,?,?)''',[\n",
    "        _['NUM'],_['DESC_KOR'] ,\n",
    "        _['FOOD_GROUP'] ,_['FOOD_CD'] ,_['NUTR_CONT1'] ,\n",
    "        _['NUTR_CONT2']  ,_['NUTR_CONT3']  ,_['NUTR_CONT4']  , _['NUTR_CONT5'],\n",
    "        _['NUTR_CONT6']   ,_['NUTR_CONT7'],  _['NUTR_CONT8'], _['NUTR_CONT9'],\n",
    "        _['SERVING_SIZE']  ,_['MAKER_NAME'] , _['BGN_YEAR']     ,_['SAMPLING_MONTH_NAME']  ,\n",
    "        _['SUB_REF_NAME'] , _['SAMPLING_REGION_NAME'] , _['GROUP_NAME']  ,\n",
    "        _['RESEARCH_YEAR'] ,_['SAMPLING_REGION_CD'] ,_['SAMPLING_MONTH_CD'],_['ANIMAL_PLANT']])\n",
    "con.commit()"
   ]
  },
  {
   "cell_type": "code",
   "execution_count": null,
   "metadata": {},
   "outputs": [],
   "source": [
    "for i in range(int(total/1000)):\n",
    "    print(\"Count : \",i)\n",
    "    startrow+= 1000\n",
    "    if i==int(total/1000)-1:\n",
    "        endrow += de\n",
    "    else:\n",
    "        endrow += 1000\n",
    "    url = 'http://openapi.foodsafetykorea.go.kr/api/' + api_key + '/I2790/json/' + str(startrow) + '/' + str(endrow)\n",
    "    resp = download(url, headers = headers,method= 'GET')\n",
    "    result = resp.json()\n",
    "    \n",
    "    for _ in result['I2790']['row']:\n",
    "        cur.execute('''INSERT INTO factor(NUM,DESC_KOR  ,\n",
    "            FOOD_GROUP ,FOOD_CD ,NUTR_CONT1 ,\n",
    "            NUTR_CONT2, NUTR_CONT3, NUTR_CONT4, NUTR_CONT5,\n",
    "            NUTR_CONT6, NUTR_CONT7,  NUTR_CONT8, NUTR_CONT9,\n",
    "            SERVING_SIZE  ,MAKER_NAME , BGN_YEAR, SAMPLING_MONTH_NAME  ,\n",
    "            SUB_REF_NAME, SAMPLING_REGION_NAME, GROUP_NAME  ,\n",
    "            RESEARCH_YEAR, SAMPLING_REGION_CD ,SAMPLING_MONTH_CD, ANIMAL_PLANT) \n",
    "            VALUES(?,?,?,?,?,?,?,?,?,?,?,?,?,?,?,?,?,?,?,?,?,?,?,?)''',[\n",
    "            _['NUM'],_['DESC_KOR'] ,\n",
    "            _['FOOD_GROUP'] ,_['FOOD_CD'] ,_['NUTR_CONT1'] ,\n",
    "            _['NUTR_CONT2']  ,_['NUTR_CONT3']  ,_['NUTR_CONT4']  , _['NUTR_CONT5'],\n",
    "            _['NUTR_CONT6']   ,_['NUTR_CONT7'],  _['NUTR_CONT8'], _['NUTR_CONT9'],\n",
    "            _['SERVING_SIZE']  ,_['MAKER_NAME'] , _['BGN_YEAR']     ,_['SAMPLING_MONTH_NAME']  ,\n",
    "            _['SUB_REF_NAME'] , _['SAMPLING_REGION_NAME'] , _['GROUP_NAME']  ,\n",
    "            _['RESEARCH_YEAR'] ,_['SAMPLING_REGION_CD'] ,_['SAMPLING_MONTH_CD'],_['ANIMAL_PLANT']])\n",
    "    time.sleep(1)\n",
    "    con.commit()\n",
    "    time.sleep(1)"
   ]
  },
  {
   "cell_type": "code",
   "execution_count": null,
   "metadata": {},
   "outputs": [],
   "source": [
    "cur.close()\n",
    "con.close()"
   ]
  },
  {
   "cell_type": "markdown",
   "metadata": {},
   "source": [
    "# 메인 화면에서만 가져온거"
   ]
  },
  {
   "cell_type": "code",
   "execution_count": 33,
   "metadata": {},
   "outputs": [],
   "source": [
    "from selenium import webdriver\n",
    "driver = webdriver.Chrome('/Users/Gyu/Desktop/mywork/KData/chromedriver')\n",
    "driver.get('http://xn--hg3bqa693eb6a.com/product/list.html?cate_no=24')"
   ]
  },
  {
   "cell_type": "code",
   "execution_count": 51,
   "metadata": {},
   "outputs": [],
   "source": [
    "from selenium import webdriver\n",
    "driver = webdriver.Chrome('/Users/Gyu/Desktop/mywork/KData/chromedriver')\n",
    "driver.get('http://xn--hg3bqa693eb6a.com/product/list.html?cate_no=24')\n",
    "\n",
    "page = 1\n",
    "url = 'http://xn--hg3bqa693eb6a.com/product/list.html?cate_no=24&page='\n",
    "driver.get(url+str(page))\n",
    "# driver.execute_script('console.log(\"hi\")')\n",
    "leng = len(driver.find_elements_by_class_name('other'))\n",
    "\n",
    "for r in range(leng+1):    \n",
    "    for i, _ in enumerate(driver.find_elements_by_css_selector('img')):\n",
    "        if _.get_attribute('src').split('/')[4]=='product':\n",
    "            urllib.request.urlretrieve(_.get_attribute('src'),\"./img/\" + str(r) + 'bakery' +str(i)+'.jpg')\n",
    "    if r == leng:\n",
    "        break\n",
    "    page+=1\n",
    "    driver.get(url+str(page))\n",
    "    time.sleep(2)"
   ]
  },
  {
   "cell_type": "code",
   "execution_count": 37,
   "metadata": {},
   "outputs": [
    {
     "data": {
      "text/plain": [
       "['http:',\n",
       " '',\n",
       " 'xn--hg3bqa693eb6a.com',\n",
       " 'web',\n",
       " 'upload',\n",
       " 'category',\n",
       " 'logo',\n",
       " '28a47eadbf2e3fc961300b61118ae4cd_3_top.jpg']"
      ]
     },
     "execution_count": 37,
     "metadata": {},
     "output_type": "execute_result"
    }
   ],
   "source": [
    "driver.find_element_by_css_selector('img').get_attribute('src').split('/')"
   ]
  },
  {
   "cell_type": "code",
   "execution_count": 58,
   "metadata": {},
   "outputs": [
    {
     "data": {
      "text/plain": [
       "<Response [200]>"
      ]
     },
     "execution_count": 58,
     "metadata": {},
     "output_type": "execute_result"
    }
   ],
   "source": [
    "# download('https://www.panhonesta.com/menu',headers=headers,method='GET')"
   ]
  },
  {
   "cell_type": "markdown",
   "metadata": {},
   "source": [
    "# 상품 세부 사진 가져오기"
   ]
  },
  {
   "cell_type": "code",
   "execution_count": 14,
   "metadata": {},
   "outputs": [
    {
     "data": {
      "text/plain": [
       "30"
      ]
     },
     "execution_count": 14,
     "metadata": {},
     "output_type": "execute_result"
    }
   ],
   "source": [
    "from selenium import webdriver\n",
    "# driver = webdriver.Chrome('/Users/Gyu/Desktop/mywork/KData/chromedriver')\n",
    "driver.get('http://xn--hg3bqa693eb6a.com/product/list.html?cate_no=24')\n",
    "total= int(driver.find_element_by_css_selector('p[class=prd_count] > strong').text.strip())\n",
    "total\n",
    "# total : 메인 화면에 30개라고 나와있음"
   ]
  },
  {
   "cell_type": "code",
   "execution_count": 16,
   "metadata": {},
   "outputs": [
    {
     "ename": "InvalidSessionIdException",
     "evalue": "Message: invalid session id\n",
     "output_type": "error",
     "traceback": [
      "\u001b[1;31m---------------------------------------------------------------------------\u001b[0m",
      "\u001b[1;31mInvalidSessionIdException\u001b[0m                 Traceback (most recent call last)",
      "\u001b[1;32m<ipython-input-16-ad0c9a213c39>\u001b[0m in \u001b[0;36m<module>\u001b[1;34m\u001b[0m\n\u001b[1;32m----> 1\u001b[1;33m \u001b[0mdriver\u001b[0m\u001b[1;33m.\u001b[0m\u001b[0mclose\u001b[0m\u001b[1;33m(\u001b[0m\u001b[1;33m)\u001b[0m\u001b[1;33m\u001b[0m\u001b[1;33m\u001b[0m\u001b[0m\n\u001b[0m",
      "\u001b[1;32m~\\Anaconda3\\envs\\py37\\lib\\site-packages\\selenium\\webdriver\\remote\\webdriver.py\u001b[0m in \u001b[0;36mclose\u001b[1;34m(self)\u001b[0m\n\u001b[0;32m    686\u001b[0m             \u001b[0mdriver\u001b[0m\u001b[1;33m.\u001b[0m\u001b[0mclose\u001b[0m\u001b[1;33m(\u001b[0m\u001b[1;33m)\u001b[0m\u001b[1;33m\u001b[0m\u001b[1;33m\u001b[0m\u001b[0m\n\u001b[0;32m    687\u001b[0m         \"\"\"\n\u001b[1;32m--> 688\u001b[1;33m         \u001b[0mself\u001b[0m\u001b[1;33m.\u001b[0m\u001b[0mexecute\u001b[0m\u001b[1;33m(\u001b[0m\u001b[0mCommand\u001b[0m\u001b[1;33m.\u001b[0m\u001b[0mCLOSE\u001b[0m\u001b[1;33m)\u001b[0m\u001b[1;33m\u001b[0m\u001b[1;33m\u001b[0m\u001b[0m\n\u001b[0m\u001b[0;32m    689\u001b[0m \u001b[1;33m\u001b[0m\u001b[0m\n\u001b[0;32m    690\u001b[0m     \u001b[1;32mdef\u001b[0m \u001b[0mquit\u001b[0m\u001b[1;33m(\u001b[0m\u001b[0mself\u001b[0m\u001b[1;33m)\u001b[0m\u001b[1;33m:\u001b[0m\u001b[1;33m\u001b[0m\u001b[1;33m\u001b[0m\u001b[0m\n",
      "\u001b[1;32m~\\Anaconda3\\envs\\py37\\lib\\site-packages\\selenium\\webdriver\\remote\\webdriver.py\u001b[0m in \u001b[0;36mexecute\u001b[1;34m(self, driver_command, params)\u001b[0m\n\u001b[0;32m    319\u001b[0m         \u001b[0mresponse\u001b[0m \u001b[1;33m=\u001b[0m \u001b[0mself\u001b[0m\u001b[1;33m.\u001b[0m\u001b[0mcommand_executor\u001b[0m\u001b[1;33m.\u001b[0m\u001b[0mexecute\u001b[0m\u001b[1;33m(\u001b[0m\u001b[0mdriver_command\u001b[0m\u001b[1;33m,\u001b[0m \u001b[0mparams\u001b[0m\u001b[1;33m)\u001b[0m\u001b[1;33m\u001b[0m\u001b[1;33m\u001b[0m\u001b[0m\n\u001b[0;32m    320\u001b[0m         \u001b[1;32mif\u001b[0m \u001b[0mresponse\u001b[0m\u001b[1;33m:\u001b[0m\u001b[1;33m\u001b[0m\u001b[1;33m\u001b[0m\u001b[0m\n\u001b[1;32m--> 321\u001b[1;33m             \u001b[0mself\u001b[0m\u001b[1;33m.\u001b[0m\u001b[0merror_handler\u001b[0m\u001b[1;33m.\u001b[0m\u001b[0mcheck_response\u001b[0m\u001b[1;33m(\u001b[0m\u001b[0mresponse\u001b[0m\u001b[1;33m)\u001b[0m\u001b[1;33m\u001b[0m\u001b[1;33m\u001b[0m\u001b[0m\n\u001b[0m\u001b[0;32m    322\u001b[0m             response['value'] = self._unwrap_value(\n\u001b[0;32m    323\u001b[0m                 response.get('value', None))\n",
      "\u001b[1;32m~\\Anaconda3\\envs\\py37\\lib\\site-packages\\selenium\\webdriver\\remote\\errorhandler.py\u001b[0m in \u001b[0;36mcheck_response\u001b[1;34m(self, response)\u001b[0m\n\u001b[0;32m    240\u001b[0m                 \u001b[0malert_text\u001b[0m \u001b[1;33m=\u001b[0m \u001b[0mvalue\u001b[0m\u001b[1;33m[\u001b[0m\u001b[1;34m'alert'\u001b[0m\u001b[1;33m]\u001b[0m\u001b[1;33m.\u001b[0m\u001b[0mget\u001b[0m\u001b[1;33m(\u001b[0m\u001b[1;34m'text'\u001b[0m\u001b[1;33m)\u001b[0m\u001b[1;33m\u001b[0m\u001b[1;33m\u001b[0m\u001b[0m\n\u001b[0;32m    241\u001b[0m             \u001b[1;32mraise\u001b[0m \u001b[0mexception_class\u001b[0m\u001b[1;33m(\u001b[0m\u001b[0mmessage\u001b[0m\u001b[1;33m,\u001b[0m \u001b[0mscreen\u001b[0m\u001b[1;33m,\u001b[0m \u001b[0mstacktrace\u001b[0m\u001b[1;33m,\u001b[0m \u001b[0malert_text\u001b[0m\u001b[1;33m)\u001b[0m\u001b[1;33m\u001b[0m\u001b[1;33m\u001b[0m\u001b[0m\n\u001b[1;32m--> 242\u001b[1;33m         \u001b[1;32mraise\u001b[0m \u001b[0mexception_class\u001b[0m\u001b[1;33m(\u001b[0m\u001b[0mmessage\u001b[0m\u001b[1;33m,\u001b[0m \u001b[0mscreen\u001b[0m\u001b[1;33m,\u001b[0m \u001b[0mstacktrace\u001b[0m\u001b[1;33m)\u001b[0m\u001b[1;33m\u001b[0m\u001b[1;33m\u001b[0m\u001b[0m\n\u001b[0m\u001b[0;32m    243\u001b[0m \u001b[1;33m\u001b[0m\u001b[0m\n\u001b[0;32m    244\u001b[0m     \u001b[1;32mdef\u001b[0m \u001b[0m_value_or_default\u001b[0m\u001b[1;33m(\u001b[0m\u001b[0mself\u001b[0m\u001b[1;33m,\u001b[0m \u001b[0mobj\u001b[0m\u001b[1;33m,\u001b[0m \u001b[0mkey\u001b[0m\u001b[1;33m,\u001b[0m \u001b[0mdefault\u001b[0m\u001b[1;33m)\u001b[0m\u001b[1;33m:\u001b[0m\u001b[1;33m\u001b[0m\u001b[1;33m\u001b[0m\u001b[0m\n",
      "\u001b[1;31mInvalidSessionIdException\u001b[0m: Message: invalid session id\n"
     ]
    }
   ],
   "source": [
    "driver.close()"
   ]
  },
  {
   "cell_type": "code",
   "execution_count": 9,
   "metadata": {},
   "outputs": [],
   "source": [
    "url = 'http://xn--hg3bqa693eb6a.com/product/%EC%95%BC%EB%AF%B8%EC%9A%94%EB%B0%80-8%E7%84%A1-%ED%9D%91%EC%9E%84%EC%9E%90-%ED%81%AC%EB%A6%BC-%EC%8C%80%EB%B9%B5-%EC%8C%80%EB%B9%B5%EB%B9%84%EA%B1%B4%EB%B9%B5%EB%B9%84%EA%B1%B4%EC%8C%80%EB%B9%B5%EA%B1%B4%EA%B0%95%EB%B9%B5%EB%8B%A4%EC%9D%B4%EC%96%B4%ED%8A%B8%EB%B9%B5%EB%B9%84%EA%B1%B4/22/category/24/display/1/#none'\n",
    "# 첫번째 상품 상세 url\n",
    "driver.get(url)\n",
    "driver.find_element_by_css_selector('span[class=next] > a').click()"
   ]
  },
  {
   "cell_type": "code",
   "execution_count": 6,
   "metadata": {},
   "outputs": [],
   "source": [
    "import urllib\n",
    "for i, _ in enumerate(driver.find_elements_by_css_selector('img[class=ThumbImage]')):\n",
    "    urllib.request.urlretrieve(_.get_attribute('src'),\"./img/\"+ 'ba' +str(i)+'.jpg')"
   ]
  },
  {
   "cell_type": "code",
   "execution_count": null,
   "metadata": {},
   "outputs": [],
   "source": [
    "driver.close()"
   ]
  },
  {
   "cell_type": "code",
   "execution_count": 22,
   "metadata": {},
   "outputs": [
    {
     "name": "stdout",
     "output_type": "stream",
     "text": [
      "[Error] https://www.google.com/search?q=가지&tbm=isch&tbs=sur%3Afmc&rlz=1C1NDCM_koKR830KR830&hl=ko&sa=X&ved=0CAEQpwVqFwoTCKCn6q2_9eoCFQAAAAAdAAAAABAC&biw=1899&bih=903\n"
     ]
    }
   ],
   "source": [
    "url = 'https://www.google.com/search?q=가지&tbm=isch&tbs=sur%3Afmc&rlz=1C1NDCM_koKR830KR830&hl=ko&sa=X&ved=0CAEQpwVqFwoTCKCn6q2_9eoCFQAAAAAdAAAAABAC&biw=1899&bih=903'\n",
    "download(url,headers=headers,method='GET')"
   ]
  },
  {
   "cell_type": "code",
   "execution_count": 24,
   "metadata": {},
   "outputs": [
    {
     "name": "stdout",
     "output_type": "stream",
     "text": [
      "[Error] https://pixabay.com/images/search/%EC%82%AC%EA%B3%BC/?cat=food\n"
     ]
    }
   ],
   "source": [
    "download(url = 'https://pixabay.com/images/search/%EC%82%AC%EA%B3%BC/?cat=food',headers=headers, method='GET')"
   ]
  },
  {
   "cell_type": "code",
   "execution_count": null,
   "metadata": {},
   "outputs": [],
   "source": []
  },
  {
   "cell_type": "code",
   "execution_count": null,
   "metadata": {},
   "outputs": [],
   "source": []
  }
 ],
 "metadata": {
  "kernelspec": {
   "display_name": "Python [conda env:py37] *",
   "language": "python",
   "name": "conda-env-py37-py"
  },
  "language_info": {
   "codemirror_mode": {
    "name": "ipython",
    "version": 3
   },
   "file_extension": ".py",
   "mimetype": "text/x-python",
   "name": "python",
   "nbconvert_exporter": "python",
   "pygments_lexer": "ipython3",
   "version": "3.6.9"
  }
 },
 "nbformat": 4,
 "nbformat_minor": 2
}
