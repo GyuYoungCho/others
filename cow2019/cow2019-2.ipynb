{
 "cells": [
  {
   "cell_type": "code",
   "execution_count": 4,
   "metadata": {},
   "outputs": [
    {
     "data": {
      "text/plain": [
       "0.19183673469387755"
      ]
     },
     "execution_count": 4,
     "metadata": {},
     "output_type": "execute_result"
    }
   ],
   "source": [
    "47/245"
   ]
  },
  {
   "cell_type": "code",
   "execution_count": 4,
   "metadata": {},
   "outputs": [
    {
     "data": {
      "text/plain": [
       "0.192090395480226"
      ]
     },
     "execution_count": 4,
     "metadata": {},
     "output_type": "execute_result"
    }
   ],
   "source": [
    "34/177"
   ]
  },
  {
   "cell_type": "code",
   "execution_count": 1,
   "metadata": {},
   "outputs": [
    {
     "name": "stdout",
     "output_type": "stream",
     "text": [
      "0.1919191919191919\n",
      "118\n"
     ]
    }
   ],
   "source": [
    "a=0\n",
    "for i in range(1,200):\n",
    "    for j in range(1,1000):\n",
    "        if (i/j) < (34/177):\n",
    "            if ((i/j)>(47/245)):\n",
    "                print(i/j)\n",
    "                a=1\n",
    "                break\n",
    "        if i>j:\n",
    "            continue\n",
    "    if(a==1):\n",
    "        break\n",
    "print(i+j)"
   ]
  },
  {
   "cell_type": "markdown",
   "metadata": {},
   "source": [
    "다음을 만족하는 분수 nm 중 분모가 가장 작은 분수에 대하여 n+m의 값을 구하여라. (단, n과 m은 서로소인 양의 정수이다.)"
   ]
  }
 ],
 "metadata": {
  "kernelspec": {
   "display_name": "Python [conda env:py37] *",
   "language": "python",
   "name": "conda-env-py37-py"
  },
  "language_info": {
   "codemirror_mode": {
    "name": "ipython",
    "version": 3
   },
   "file_extension": ".py",
   "mimetype": "text/x-python",
   "name": "python",
   "nbconvert_exporter": "python",
   "pygments_lexer": "ipython3",
   "version": "3.6.9"
  }
 },
 "nbformat": 4,
 "nbformat_minor": 2
}
