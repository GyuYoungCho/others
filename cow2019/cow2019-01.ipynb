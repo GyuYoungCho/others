{
 "cells": [
  {
   "cell_type": "code",
   "execution_count": 8,
   "metadata": {},
   "outputs": [
    {
     "name": "stdout",
     "output_type": "stream",
     "text": [
      "7145992329\n"
     ]
    }
   ],
   "source": [
    "#7의 배수이고 백의자리 7 1000000이하의 합\n",
    "count =0\n",
    "\n",
    "def x(n):\n",
    "    y = int(n/100)\n",
    "    return y%10\n",
    "for i in range(100,1000000):\n",
    "    if (i%7==0)&(x(i)==7):\n",
    "        count+=i\n",
    "print(count)"
   ]
  }
 ],
 "metadata": {
  "kernelspec": {
   "display_name": "Python [conda env:py37] *",
   "language": "python",
   "name": "conda-env-py37-py"
  },
  "language_info": {
   "codemirror_mode": {
    "name": "ipython",
    "version": 3
   },
   "file_extension": ".py",
   "mimetype": "text/x-python",
   "name": "python",
   "nbconvert_exporter": "python",
   "pygments_lexer": "ipython3",
   "version": "3.6.9"
  }
 },
 "nbformat": 4,
 "nbformat_minor": 2
}
