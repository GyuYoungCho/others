{
 "cells": [
  {
   "cell_type": "code",
   "execution_count": 11,
   "metadata": {},
   "outputs": [
    {
     "name": "stdout",
     "output_type": "stream",
     "text": [
      "[21654567, 24852168, 24852888, 24858486, 27654246, 42852645, 42858243, 45252243, 45258561, 45654723, 63252720, 63258327, 81252567, 81258165, 81258885, 81654327, 87252246, 87258564, 87654726]\n"
     ]
    }
   ],
   "source": [
    "# 1부터 8까지 8개의 숫자를 한 번씩 사용하여 만든 수 중 다음 조건을 만족하는 자연수를 구하여라.\n",
    "\n",
    "# 왼쪽에서 처음 1자리 수는 2로 나누어진다.\n",
    "# 왼쪽에서 처음 2자리 수는 3로 나누어진다.\n",
    "# 왼쪽에서 처음 3자리 수는 4로 나누어진다.\n",
    "# 왼쪽에서 처음 4자리 수는 5로 나누어진다.\n",
    "# 왼쪽에서 처음 5자리 수는 6로 나누어진다.\n",
    "# 왼쪽에서 처음 6자리 수는 7로 나누어진다.\n",
    "# 왼쪽에서 처음 7자리 수는 8로 나누어진다.\n",
    "# 왼쪽에서 처음 8자리 수는 9로 나누어진다.\n",
    "# a1,a2,a3,a4,a5,a6,a7 = [],[],[],[],[],[],[]\n",
    "\n",
    "y = [0,1,2,3,4,5,6,7,8,9]\n",
    "for i in range(2,9,2):\n",
    "    for x in range(1,9):\n",
    "        if (i==x):\n",
    "            continue\n",
    "        j = i*10 + x\n",
    "        if j%3==0:\n",
    "            a1.append(j)\n",
    "for i in range(len(a1)):\n",
    "    for x in range(1,9):\n",
    "        if (int(a1[i]/10)==x)|(a1[i]%10==x):\n",
    "            continue\n",
    "        j = a1[i]*10 + x\n",
    "        if j%4==0:\n",
    "            a2.append(j)\n",
    "            \n",
    "for i in range(len(a2)):\n",
    "    for x in range(1,9):\n",
    "        j = a2[i]*10 + x\n",
    "        if j%5==0:\n",
    "            a3.append(j)\n",
    "\n",
    "for i in range(len(a3)):\n",
    "    for x in range(1,9):\n",
    "        j = a3[i]*10 + x\n",
    "        if j%6==0:\n",
    "            a4.append(j)\n",
    "\n",
    "for i in range(len(a4)):\n",
    "    for x in range(1,9):\n",
    "        j = a4[i]*10 + x\n",
    "        if j%7==0:\n",
    "            a5.append(j)\n",
    "            \n",
    "for i in range(len(a5)):\n",
    "    for x in range(1,9):\n",
    "        j = a5[i]*10 + x\n",
    "        if j%8==0:\n",
    "            a6.append(j)\n",
    "            \n",
    "for i in range(len(a6)):\n",
    "    for x in range(0,9):\n",
    "        j = a6[i]*10 + x\n",
    "        if j%9==0:\n",
    "            a7.append(j)\n",
    "\n",
    "print(a7)"
   ]
  }
 ],
 "metadata": {
  "kernelspec": {
   "display_name": "Python [conda env:py37] *",
   "language": "python",
   "name": "conda-env-py37-py"
  },
  "language_info": {
   "codemirror_mode": {
    "name": "ipython",
    "version": 3
   },
   "file_extension": ".py",
   "mimetype": "text/x-python",
   "name": "python",
   "nbconvert_exporter": "python",
   "pygments_lexer": "ipython3",
   "version": "3.6.9"
  }
 },
 "nbformat": 4,
 "nbformat_minor": 2
}
