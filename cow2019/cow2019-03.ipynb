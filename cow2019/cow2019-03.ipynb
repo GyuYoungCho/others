{
 "cells": [
  {
   "cell_type": "code",
   "execution_count": 18,
   "metadata": {},
   "outputs": [
    {
     "name": "stdout",
     "output_type": "stream",
     "text": [
      "565049472421.0\n"
     ]
    }
   ],
   "source": [
    "# 약수가 4개인것 합\n",
    "\n",
    "ap = []\n",
    "ap.append(0)\n",
    "ap.append(0)\n",
    "for i in range(2,500000):\n",
    "    ap.append(i)\n",
    "for i in range(2,500000):\n",
    "    if ap[i]==0:\n",
    "        continue\n",
    "    for j in range(i+i,100001,i):\n",
    "        ap[j]=0\n",
    "b= []\n",
    "for i in range(2,500000):\n",
    "    if ap[i]!=0:\n",
    "        b.append(i)\n",
    "\n",
    "        \n",
    "ccount=0\n",
    "for i in range(409591):\n",
    "    for j in range(409591):\n",
    "        if i==j:\n",
    "            continue\n",
    "        if (b[j]*2 >1000000):\n",
    "            break\n",
    "        n = b[i]*b[j]\n",
    "        if n >1000000:\n",
    "            break\n",
    "        else:\n",
    "            ccount+=n\n",
    "    if (b[i]*2 >1000000):\n",
    "            break\n",
    "ccount/=2\n",
    "for i in range(409591):\n",
    "    if b[i]**3>1000000:\n",
    "        break\n",
    "    else:\n",
    "        ccount+=(b[i]**3)\n",
    "print(ccount)"
   ]
  },
  {
   "cell_type": "code",
   "execution_count": 6,
   "metadata": {},
   "outputs": [
    {
     "name": "stdout",
     "output_type": "stream",
     "text": [
      "[2, 3, 5, 7, 11, 13, 17, 19, 23, 29, 31, 37, 41, 43, 47, 53, 59, 61, 67, 71, 73, 79, 83, 89, 97, 101, 103, 107, 109, 113, 127, 131, 137, 139, 149, 151, 157, 163, 167, 173, 179, 181, 191, 193, 197, 199, 211, 223, 227, 229, 233, 239, 241, 251, 257, 263, 269, 271, 277, 281, 283, 293, 307, 311, 313, 317, 331, 337, 347, 349, 353, 359, 367, 373, 379, 383, 389, 397, 401, 409, 419, 421, 431, 433, 439, 443, 449, 457, 461, 463, 467, 479, 487, 491, 499, 503, 509, 521, 523, 541]\n"
     ]
    }
   ],
   "source": []
  },
  {
   "cell_type": "code",
   "execution_count": 19,
   "metadata": {},
   "outputs": [
    {
     "name": "stdout",
     "output_type": "stream",
     "text": [
      "409591\n",
      "565044775971.0\n",
      "2\n",
      "3\n",
      "5\n",
      "7\n",
      "11\n",
      "13\n",
      "17\n",
      "19\n",
      "23\n",
      "29\n",
      "31\n",
      "37\n",
      "41\n",
      "43\n",
      "47\n",
      "53\n",
      "59\n",
      "61\n",
      "67\n",
      "71\n",
      "73\n",
      "79\n",
      "83\n",
      "89\n",
      "97\n",
      "565049472421.0\n"
     ]
    }
   ],
   "source": [
    "ccount=0\n",
    "print(len(b))\n",
    "for i in range(409591):\n",
    "    for j in range(409591):\n",
    "        if i==j:\n",
    "            continue\n",
    "        if (b[j]*2 >1000000):\n",
    "            break\n",
    "        n = b[i]*b[j]\n",
    "        if n >1000000:\n",
    "            break\n",
    "        else:\n",
    "            ccount+=n\n",
    "    if (b[i]*2 >1000000):\n",
    "            break\n",
    "ccount/=2\n",
    "print(ccount)\n",
    "for i in range(409591):\n",
    "    if b[i]**3>1000000:\n",
    "        break\n",
    "    else:\n",
    "        print(b[i])\n",
    "        ccount+=(b[i]**3)\n",
    "print(ccount)"
   ]
  },
  {
   "cell_type": "code",
   "execution_count": null,
   "metadata": {},
   "outputs": [],
   "source": []
  }
 ],
 "metadata": {
  "kernelspec": {
   "display_name": "Python [conda env:py37] *",
   "language": "python",
   "name": "conda-env-py37-py"
  },
  "language_info": {
   "codemirror_mode": {
    "name": "ipython",
    "version": 3
   },
   "file_extension": ".py",
   "mimetype": "text/x-python",
   "name": "python",
   "nbconvert_exporter": "python",
   "pygments_lexer": "ipython3",
   "version": "3.6.9"
  }
 },
 "nbformat": 4,
 "nbformat_minor": 2
}
