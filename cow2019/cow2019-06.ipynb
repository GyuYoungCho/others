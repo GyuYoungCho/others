{
 "cells": [
  {
   "cell_type": "code",
   "execution_count": 15,
   "metadata": {},
   "outputs": [
    {
     "name": "stdout",
     "output_type": "stream",
     "text": [
      "286432502\n"
     ]
    }
   ],
   "source": [
    "count = 0\n",
    "for i in range(16,100000):\n",
    "     if multiv(i) == 6:\n",
    "            count+=i\n",
    "    \n",
    "def multiv(n):\n",
    "    sum=1\n",
    "    while(n != 0):\n",
    "        sum *= (n % 10)\n",
    "        n = int(n/10)\n",
    "    if(sum>10):\n",
    "        sum = multiv(sum)\n",
    "    return sum\n",
    "print(count)\n",
    "\n"
   ]
  },
  {
   "cell_type": "markdown",
   "metadata": {},
   "source": [
    "양의 정수 n의 각 자리수의 곱을 ϕ(n)이라고 하자. n에 ϕ를 충분히 많이 적용을 하면 한 자리 자연수가 되는데, 이를 함수 f(n)이라고 하자.\n",
    "f(n)=limk→∞ϕ(k)(n)\n",
    "예를 들어, n=86일 때 다음과 같고 f(86)=6이다.\n",
    "86→48→32→6→6→⋯\n",
    "f(n)=6인 100000 보다 작은 양의 정수 n을 모두 합한 값을 구하여라."
   ]
  }
 ],
 "metadata": {
  "kernelspec": {
   "display_name": "Python [conda env:py37] *",
   "language": "python",
   "name": "conda-env-py37-py"
  },
  "language_info": {
   "codemirror_mode": {
    "name": "ipython",
    "version": 3
   },
   "file_extension": ".py",
   "mimetype": "text/x-python",
   "name": "python",
   "nbconvert_exporter": "python",
   "pygments_lexer": "ipython3",
   "version": "3.6.9"
  }
 },
 "nbformat": 4,
 "nbformat_minor": 2
}
